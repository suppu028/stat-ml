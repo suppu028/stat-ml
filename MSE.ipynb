{
  "nbformat": 4,
  "nbformat_minor": 0,
  "metadata": {
    "colab": {
      "name": "Untitled19.ipynb",
      "provenance": []
    },
    "kernelspec": {
      "name": "python3",
      "display_name": "Python 3"
    },
    "language_info": {
      "name": "python"
    }
  },
  "cells": [
    {
      "cell_type": "code",
      "metadata": {
        "id": "m5cVwIw7VmG1"
      },
      "source": [
        "from sklearn import linear_model\n",
        "from sklearn.metrics import mean_squared_error\n",
        "import pandas as pd"
      ],
      "execution_count": 28,
      "outputs": []
    },
    {
      "cell_type": "code",
      "metadata": {
        "id": "RGqznr85W8eC"
      },
      "source": [
        "model = linear_model.LinearRegression()"
      ],
      "execution_count": 29,
      "outputs": []
    },
    {
      "cell_type": "code",
      "metadata": {
        "id": "fkcLWGRZXH4i"
      },
      "source": [
        "data = [\n",
        " [3.2, 54445],\n",
        " [3.2, 64445],\n",
        " [3.7, 57189],\n",
        " [3.9, 63218],\n",
        " [4.0, 55794],\n",
        " [4.0, 56957],\n",
        " [4.1, 57081],\n",
        " [4.5, 61111],\n",
        " [4.9, 67938],\n",
        " [5.1, 66029],\n",
        " [5.3, 83088],\n",
        " [5.9, 81363],\n",
        " [6.0, 93940]\n",
        "]"
      ],
      "execution_count": 30,
      "outputs": []
    },
    {
      "cell_type": "code",
      "metadata": {
        "id": "0MuOGLl-X2qN"
      },
      "source": [
        "data = pd.DataFrame(data=data)"
      ],
      "execution_count": 31,
      "outputs": []
    },
    {
      "cell_type": "code",
      "metadata": {
        "id": "OCmNBlhcX6CQ"
      },
      "source": [
        "x = data[0]\n",
        "y = data[1]\n",
        "x = x.values.reshape(-1, 1)\n",
        "y = y.values.reshape(-1, 1)"
      ],
      "execution_count": 32,
      "outputs": []
    },
    {
      "cell_type": "code",
      "metadata": {
        "colab": {
          "base_uri": "https://localhost:8080/"
        },
        "id": "ggiErg_uYQqq",
        "outputId": "43149938-b71c-4fee-ed28-23ee51e87526"
      },
      "source": [
        "model.fit(x, y)"
      ],
      "execution_count": 33,
      "outputs": [
        {
          "output_type": "execute_result",
          "data": {
            "text/plain": [
              "LinearRegression()"
            ]
          },
          "metadata": {},
          "execution_count": 33
        }
      ]
    },
    {
      "cell_type": "code",
      "metadata": {
        "id": "TG-JOAk3YUvs"
      },
      "source": [
        "y_hat = model.predict(x)"
      ],
      "execution_count": 35,
      "outputs": []
    },
    {
      "cell_type": "code",
      "metadata": {
        "colab": {
          "base_uri": "https://localhost:8080/"
        },
        "id": "V56voh4zZBe5",
        "outputId": "6ab950b7-e813-48d1-b500-0b43005206bd"
      },
      "source": [
        "mean_squared_error(y, y_hat)"
      ],
      "execution_count": 36,
      "outputs": [
        {
          "output_type": "execute_result",
          "data": {
            "text/plain": [
              "38452449.89527761"
            ]
          },
          "metadata": {},
          "execution_count": 36
        }
      ]
    },
    {
      "cell_type": "code",
      "metadata": {
        "colab": {
          "base_uri": "https://localhost:8080/"
        },
        "id": "8L53K5Zaa1cO",
        "outputId": "05ffd22d-9ca3-4eda-d5f5-771a5820e9b9"
      },
      "source": [
        "import math\n",
        "def calculator(y, yhat):\n",
        "  error = 0\n",
        "  for i in range(len(y)):\n",
        "    error += math.pow((y[i][0]-yhat[i][0]), 2)\n",
        "  print(error/len(y))\n",
        "\n",
        "calculator(y, y_hat)\n"
      ],
      "execution_count": 38,
      "outputs": [
        {
          "output_type": "stream",
          "name": "stdout",
          "text": [
            "38452449.89527761\n"
          ]
        }
      ]
    },
    {
      "cell_type": "code",
      "metadata": {
        "id": "b637amB5blVJ"
      },
      "source": [
        ""
      ],
      "execution_count": null,
      "outputs": []
    }
  ]
}